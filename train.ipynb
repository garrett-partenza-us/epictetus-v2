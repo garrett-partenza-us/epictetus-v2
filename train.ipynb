{
 "cells": [
  {
   "cell_type": "code",
   "execution_count": 1,
   "id": "combined-medline",
   "metadata": {},
   "outputs": [
    {
     "name": "stderr",
     "output_type": "stream",
     "text": [
      "/Users/garrettpartenza/.pyenv/versions/transformer/lib/python3.9/site-packages/tqdm/auto.py:22: TqdmWarning: IProgress not found. Please update jupyter and ipywidgets. See https://ipywidgets.readthedocs.io/en/stable/user_install.html\n",
      "  from .autonotebook import tqdm as notebook_tqdm\n"
     ]
    }
   ],
   "source": [
    "import io\n",
    "from torchtext.vocab import build_vocab_from_iterator\n",
    "from torchtext.data import get_tokenizer\n",
    "import re\n",
    "\n",
    "def yield_tokens(file_path, tokenizer):\n",
    "    with io.open(file_path, encoding = 'utf-8') as file:\n",
    "        for line in file:\n",
    "            if re.search('[a-zA-Z]', line):\n",
    "                yield tokenizer(line.lower().replace('\\n', '').strip())\n",
    "                "
   ]
  },
  {
   "cell_type": "code",
   "execution_count": 2,
   "id": "distant-assumption",
   "metadata": {},
   "outputs": [
    {
     "name": "stderr",
     "output_type": "stream",
     "text": [
      "/Users/garrettpartenza/.pyenv/versions/transformer/lib/python3.9/site-packages/torchtext/data/utils.py:123: UserWarning: Spacy model \"en\" could not be loaded, trying \"en_core_web_sm\" instead\n",
      "  warnings.warn(f'Spacy model \"{language}\" could not be loaded, trying \"{OLD_MODEL_SHORTCUTS[language]}\" instead')\n"
     ]
    }
   ],
   "source": [
    "textfile = \"data/discourses.mb.txt\"\n",
    "tokenizer = get_tokenizer(\"spacy\")\n",
    "contains_chars = lambda x: re.search('[a-zA-Z]', x)\n",
    "\n",
    "vocab = build_vocab_from_iterator(yield_tokens(textfile, tokenizer), specials=[\"<unk>\", \"<eos>\", \"<sos>\", \"<pad>\"])\n",
    "vocab.set_default_index(-1)"
   ]
  },
  {
   "cell_type": "code",
   "execution_count": 3,
   "id": "upset-noise",
   "metadata": {},
   "outputs": [],
   "source": [
    "input_sequences = []\n",
    "\n",
    "with io.open(textfile, encoding = 'utf-8') as file:\n",
    "    for line in file.readlines():\n",
    "        if contains_chars(line):\n",
    "            line = line.lower().replace('\\n', '').strip()\n",
    "            words = tokenizer(line)\n",
    "            tokens = [vocab[word] for word in words]\n",
    "            for i in range(1, len(tokens)): \n",
    "                n_gram_seqs = tokens[:i+1]\n",
    "                input_sequences.append(n_gram_seqs)"
   ]
  },
  {
   "cell_type": "code",
   "execution_count": 4,
   "id": "protective-stable",
   "metadata": {},
   "outputs": [],
   "source": [
    "num_tokens = len(vocab)\n",
    "d_model = 16\n",
    "dropout = 0.1\n",
    "seq_len = 64"
   ]
  },
  {
   "cell_type": "code",
   "execution_count": 5,
   "id": "overall-battle",
   "metadata": {},
   "outputs": [],
   "source": [
    "import torch.nn.functional as F\n",
    "\n",
    "def padding(arr, seq_len, mode=\"right\"):\n",
    "    assert mode==\"right\" or mode==\"left\", \"invalid padding mode\"\n",
    "    if mode==\"right\":\n",
    "        return F.pad(arr, (0, seq_len-arr.nelement()))\n",
    "    else:\n",
    "        return F.pad(arr, (seq_len-arr.nelement()), 0)"
   ]
  },
  {
   "cell_type": "code",
   "execution_count": 6,
   "id": "secure-malaysia",
   "metadata": {},
   "outputs": [],
   "source": [
    "import torch\n",
    "import torch.nn as nn\n",
    "\n",
    "luc = nn.Embedding(num_tokens, d_model)"
   ]
  },
  {
   "cell_type": "code",
   "execution_count": 7,
   "id": "republican-leader",
   "metadata": {},
   "outputs": [
    {
     "data": {
      "text/plain": [
       "torch.Size([64, 16])"
      ]
     },
     "execution_count": 7,
     "metadata": {},
     "output_type": "execute_result"
    }
   ],
   "source": [
    "example = input_sequences[-1]\n",
    "example_padded = padding(torch.tensor(example), seq_len)\n",
    "embedding_func = lambda x: luc(torch.tensor(x, dtype=torch.long))\n",
    "example_embedding = torch.tensor([luc(token_num).tolist() for token_num in example_padded])\n",
    "example_embedding.shape"
   ]
  },
  {
   "cell_type": "code",
   "execution_count": 8,
   "id": "turkish-ambassador",
   "metadata": {},
   "outputs": [
    {
     "data": {
      "text/plain": [
       "torch.Size([64, 16])"
      ]
     },
     "execution_count": 8,
     "metadata": {},
     "output_type": "execute_result"
    }
   ],
   "source": [
    "import numpy as np\n",
    "import matplotlib.pyplot as plt\n",
    " \n",
    "def positional_encoding(seq_len, d, n=10000):\n",
    "    p = np.zeros((seq_len, d))\n",
    "    for k in range(seq_len):\n",
    "        for i in np.arange(int(d/2)):\n",
    "            denominator = np.power(n, 2*i/d)\n",
    "            p[k, 2*i] = np.sin(k/denominator)\n",
    "            p[k, 2*i+1] = np.cos(k/denominator)\n",
    "    return p\n",
    "\n",
    "p_embedding = torch.tensor(positional_encoding(seq_len=seq_len, d=d_model, n=10000))\n",
    "p_embedding.shape"
   ]
  },
  {
   "cell_type": "code",
   "execution_count": 9,
   "id": "overall-trash",
   "metadata": {},
   "outputs": [
    {
     "data": {
      "text/plain": [
       "torch.Size([64, 16])"
      ]
     },
     "execution_count": 9,
     "metadata": {},
     "output_type": "execute_result"
    }
   ],
   "source": [
    "rep = torch.add(example_embedding, p_embedding)\n",
    "rep.shape"
   ]
  },
  {
   "cell_type": "code",
   "execution_count": 10,
   "id": "classified-warner",
   "metadata": {},
   "outputs": [],
   "source": [
    "def attention(query, key, value, mask=None, dropout=None):\n",
    "    \"Compute 'Scaled Dot Product Attention'\"\n",
    "    d_k = query.size(-1)\n",
    "    scores = torch.matmul(query, key.transpose(-2, -1)) / math.sqrt(d_k)\n",
    "    if mask is not None:\n",
    "        scores = scores.masked_fill(mask == 0, -1e9)\n",
    "    p_attn = scores.softmax(dim=-1)\n",
    "    if dropout is not None:\n",
    "        p_attn = dropout(p_attn)\n",
    "    return torch.matmul(p_attn, value), p_attn\n",
    "\n",
    "\n",
    "class MultiHeadedAttention(nn.Module):\n",
    "    def __init__(self, h, d_model, dropout=0.1):\n",
    "        \"Take in model size and number of heads.\"\n",
    "        super(MultiHeadedAttention, self).__init__()\n",
    "        assert d_model % h == 0\n",
    "        # We assume d_v always equals d_k\n",
    "        self.d_k = d_model // h\n",
    "        self.h = h\n",
    "        # all h heads are calculated in a single matrix multiplication (better parallelization)\n",
    "        self.linears = clones(nn.Linear(d_model, d_model), 4)\n",
    "        self.attn = None\n",
    "        self.dropout = nn.Dropout(p=dropout)\n",
    "\n",
    "    def forward(self, query, key, value, mask=None):\n",
    "        \"Implements Figure 2\"\n",
    "        if mask is not None:\n",
    "            # Same mask applied to all h heads.\n",
    "            mask = mask.unsqueeze(1)\n",
    "        nbatches = query.size(0)\n",
    "\n",
    "        # 1) Do all the linear projections in batch from d_model => h x d_k\n",
    "        query, key, value = [\n",
    "            # reshapes into the individual attention heads of shape h x d_model // h\n",
    "            lin(x).view(nbatches, -1, self.h, self.d_k).transpose(1, 2)\n",
    "            for lin, x in zip(self.linears, (query, key, value))\n",
    "        ]\n",
    "        \n",
    "\n",
    "        # 2) Apply attention on all the projected vectors in batch.\n",
    "        # calculate attention using paper formula (scaled dot product attention to prevent small gradients)\n",
    "        x, self.attn = attention(\n",
    "            query, key, value, mask=mask, dropout=self.dropout\n",
    "        )\n",
    "        \n",
    "        # 3) \"Concat\" using a view and apply a final linear.\n",
    "        # concats all attention layers back into d_model size feature vector\n",
    "        x = (\n",
    "            x.transpose(1, 2)\n",
    "            .contiguous()\n",
    "            .view(nbatches, -1, self.h * self.d_k)\n",
    "        )\n",
    "        \n",
    "            \n",
    "        del query\n",
    "        del key\n",
    "        del value\n",
    "        \n",
    "        # applys fourth linear transformation\n",
    "        return self.linears[-1](x)"
   ]
  },
  {
   "cell_type": "code",
   "execution_count": 11,
   "id": "accessory-wagner",
   "metadata": {},
   "outputs": [],
   "source": [
    "class DecoderLayer(nn.Module):\n",
    "    \"Decoder is made of self-attn, src-attn, and feed forward (defined below)\"\n",
    "\n",
    "    def __init__(self, size, self_attn, feed_forward, dropout):\n",
    "        super(DecoderLayer, self).__init__()\n",
    "        self.size = size\n",
    "        # attention over itself\n",
    "        self.self_attn = self_attn\n",
    "        # attention over encoder\n",
    "        self.feed_forward = feed_forward\n",
    "        # three sublayers now due to encoder-decoder attention\n",
    "        self.sublayer = clones(SublayerConnection(size, dropout), 2)\n",
    "\n",
    "    def forward(self, x):\n",
    "        \"Follow Figure 1 (right) for connections.\"\n",
    "        # same as the encoder layer, plus an additional sublayer for the encoder-decoder attention\n",
    "        x = self.sublayer[0](x, lambda x: self.self_attn(x, x, x))\n",
    "        return self.sublayer[1](x, self.feed_forward)"
   ]
  },
  {
   "cell_type": "code",
   "execution_count": 12,
   "id": "listed-producer",
   "metadata": {},
   "outputs": [],
   "source": [
    "# wrapper to apply residual connection addition as well as layer normalization\n",
    "class SublayerConnection(nn.Module):\n",
    "    \"\"\"\n",
    "    A residual connection followed by a layer norm.\n",
    "    Note for code simplicity the norm is first as opposed to last.\n",
    "    \"\"\"\n",
    "\n",
    "    def __init__(self, size, dropout):\n",
    "        super(SublayerConnection, self).__init__()\n",
    "        self.norm = LayerNorm(size)\n",
    "        self.dropout = nn.Dropout(dropout)\n",
    "\n",
    "    def forward(self, x, sublayer):\n",
    "        \"Apply residual connection to any sublayer with the same size.\"\n",
    "        return x + self.dropout(sublayer(self.norm(x)))"
   ]
  },
  {
   "cell_type": "code",
   "execution_count": 13,
   "id": "english-scientist",
   "metadata": {},
   "outputs": [],
   "source": [
    "class LayerNorm(nn.Module):\n",
    "    \"Construct a layernorm module (See citation for details).\"\n",
    "\n",
    "    def __init__(self, features, eps=1e-6):\n",
    "        super(LayerNorm, self).__init__()\n",
    "        self.a_2 = nn.Parameter(torch.ones(features))\n",
    "        self.b_2 = nn.Parameter(torch.zeros(features))\n",
    "        self.eps = eps\n",
    "\n",
    "    def forward(self, x):\n",
    "        # bunch of math, tldr; rescales features with mean of 0 and std of 1 (paper -> https://arxiv.org/abs/1607.06450)\n",
    "        # not sure what the function of eps is here\n",
    "        mean = x.mean(-1, keepdim=True)\n",
    "        std = x.std(-1, keepdim=True)\n",
    "        return self.a_2 * (x - mean) / (std + self.eps) + self.b_2"
   ]
  },
  {
   "cell_type": "code",
   "execution_count": 14,
   "id": "hollow-calgary",
   "metadata": {},
   "outputs": [],
   "source": [
    "# literally the same high level wrapper as encoder, where differences occur within the actual decoder layer class\n",
    "class Decoder(nn.Module):\n",
    "    \"Generic N layer decoder with masking.\"\n",
    "\n",
    "    def __init__(self, layer, N):\n",
    "        super(Decoder, self).__init__()\n",
    "        self.layers = clones(layer, N)\n",
    "        self.norm = LayerNorm(layer.size)\n",
    "\n",
    "    def forward(self, x):\n",
    "        for layer in self.layers:\n",
    "            x = layer(x)\n",
    "        return self.norm(x)"
   ]
  },
  {
   "cell_type": "code",
   "execution_count": 15,
   "id": "public-guitar",
   "metadata": {},
   "outputs": [],
   "source": [
    "def clones(module, N):\n",
    "    \"Produce N identical layers.\"\n",
    "    return nn.ModuleList([copy.deepcopy(module) for _ in range(N)])"
   ]
  },
  {
   "cell_type": "code",
   "execution_count": 16,
   "id": "mental-small",
   "metadata": {},
   "outputs": [],
   "source": [
    "# simple single hidden layer feed forward nueral network with relu acitvation funcftion\n",
    "class PositionwiseFeedForward(nn.Module):\n",
    "    \"Implements FFN equation.\"\n",
    "\n",
    "    def __init__(self, d_model, d_ff, dropout=0.1):\n",
    "        super(PositionwiseFeedForward, self).__init__()\n",
    "        self.w_1 = nn.Linear(d_model, d_ff)\n",
    "        self.w_2 = nn.Linear(d_ff, d_model)\n",
    "        self.dropout = nn.Dropout(dropout)\n",
    "\n",
    "    def forward(self, x):\n",
    "        return self.w_2(self.dropout(self.w_1(x).relu()))"
   ]
  },
  {
   "cell_type": "code",
   "execution_count": 17,
   "id": "consecutive-words",
   "metadata": {},
   "outputs": [],
   "source": [
    "import copy\n",
    "import math\n",
    "\n",
    "h = 2\n",
    "N = 1\n",
    "d_ff = 64\n",
    "c = copy.deepcopy\n",
    "attn = MultiHeadedAttention(h, d_model)\n",
    "ff = PositionwiseFeedForward(d_model, d_ff, dropout)\n",
    "gpt = Decoder(DecoderLayer(d_model, c(attn), c(ff), dropout), N)"
   ]
  },
  {
   "cell_type": "code",
   "execution_count": 18,
   "id": "entire-emergency",
   "metadata": {},
   "outputs": [],
   "source": [
    "for p in gpt.parameters():\n",
    "    if p.dim() > 1:\n",
    "        nn.init.xavier_uniform_(p)"
   ]
  },
  {
   "cell_type": "code",
   "execution_count": 19,
   "id": "wireless-scratch",
   "metadata": {},
   "outputs": [
    {
     "name": "stdout",
     "output_type": "stream",
     "text": [
      "Input shape:  torch.Size([64, 16])\n"
     ]
    },
    {
     "data": {
      "text/plain": [
       "torch.Size([64, 64, 16])"
      ]
     },
     "execution_count": 19,
     "metadata": {},
     "output_type": "execute_result"
    }
   ],
   "source": [
    "print(\"Input shape: \", rep.shape)\n",
    "out = gpt(rep.float())\n",
    "out.shape"
   ]
  },
  {
   "cell_type": "code",
   "execution_count": 20,
   "id": "neural-seventh",
   "metadata": {},
   "outputs": [],
   "source": [
    "from torch.nn.functional import log_softmax\n",
    "\n",
    "class Generator(nn.Module):\n",
    "    \"Define standard linear + softmax generation step.\"\n",
    "\n",
    "    def __init__(self, d_model, vocab):\n",
    "        super(Generator, self).__init__()\n",
    "        # matmul(1xd_model, d_modelxvocav) gives a 1 dimensional array of softmaxed values for each vocab word\n",
    "        self.proj = nn.Linear(d_model, vocab)\n",
    "\n",
    "    def forward(self, x):\n",
    "        return log_softmax(self.proj(x), dim=-1)"
   ]
  },
  {
   "cell_type": "code",
   "execution_count": 21,
   "id": "turned-indonesia",
   "metadata": {},
   "outputs": [],
   "source": [
    "generator = Generator(d_model, num_tokens)"
   ]
  },
  {
   "cell_type": "code",
   "execution_count": 22,
   "id": "worth-hurricane",
   "metadata": {},
   "outputs": [],
   "source": [
    "prob = generator(out[:, -1])"
   ]
  },
  {
   "cell_type": "code",
   "execution_count": 23,
   "id": "incomplete-validity",
   "metadata": {},
   "outputs": [
    {
     "data": {
      "text/plain": [
       "torch.Size([64, 5767])"
      ]
     },
     "execution_count": 23,
     "metadata": {},
     "output_type": "execute_result"
    }
   ],
   "source": [
    "prob.shape"
   ]
  },
  {
   "cell_type": "code",
   "execution_count": 24,
   "id": "numerical-device",
   "metadata": {},
   "outputs": [],
   "source": [
    "_, next_word = torch.max(prob, dim=1)"
   ]
  },
  {
   "cell_type": "code",
   "execution_count": 25,
   "id": "incorporate-minimum",
   "metadata": {},
   "outputs": [
    {
     "data": {
      "text/plain": [
       "torch.Size([64])"
      ]
     },
     "execution_count": 25,
     "metadata": {},
     "output_type": "execute_result"
    }
   ],
   "source": [
    "next_word.shape"
   ]
  },
  {
   "cell_type": "code",
   "execution_count": 26,
   "id": "intimate-meditation",
   "metadata": {},
   "outputs": [
    {
     "data": {
      "text/plain": [
       "torch.Size([64])"
      ]
     },
     "execution_count": 26,
     "metadata": {},
     "output_type": "execute_result"
    }
   ],
   "source": [
    "next_word.shape"
   ]
  },
  {
   "cell_type": "code",
   "execution_count": 27,
   "id": "consistent-gardening",
   "metadata": {},
   "outputs": [],
   "source": [
    "next_word = next_word.data[0]"
   ]
  },
  {
   "cell_type": "code",
   "execution_count": 28,
   "id": "native-probability",
   "metadata": {},
   "outputs": [
    {
     "data": {
      "text/plain": [
       "tensor(1705)"
      ]
     },
     "execution_count": 28,
     "metadata": {},
     "output_type": "execute_result"
    }
   ],
   "source": [
    "next_word"
   ]
  },
  {
   "cell_type": "code",
   "execution_count": 29,
   "id": "rolled-colony",
   "metadata": {},
   "outputs": [
    {
     "data": {
      "text/plain": [
       "'tame'"
      ]
     },
     "execution_count": 29,
     "metadata": {},
     "output_type": "execute_result"
    }
   ],
   "source": [
    "vocab.lookup_token(next_word)"
   ]
  },
  {
   "cell_type": "code",
   "execution_count": null,
   "id": "ongoing-australian",
   "metadata": {},
   "outputs": [],
   "source": []
  }
 ],
 "metadata": {
  "kernelspec": {
   "display_name": "transformer :)",
   "language": "python",
   "name": "transformer"
  },
  "language_info": {
   "codemirror_mode": {
    "name": "ipython",
    "version": 3
   },
   "file_extension": ".py",
   "mimetype": "text/x-python",
   "name": "python",
   "nbconvert_exporter": "python",
   "pygments_lexer": "ipython3",
   "version": "3.9.5"
  }
 },
 "nbformat": 4,
 "nbformat_minor": 5
}
