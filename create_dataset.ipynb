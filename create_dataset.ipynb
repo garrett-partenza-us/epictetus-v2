{
 "cells": [
  {
   "cell_type": "code",
   "execution_count": 49,
   "id": "environmental-memory",
   "metadata": {},
   "outputs": [],
   "source": [
    "import io\n",
    "from torchtext.vocab import build_vocab_from_iterator\n",
    "from torchtext.data import get_tokenizer\n",
    "import re\n",
    "\n",
    "def yield_tokens(file_path, tokenizer):\n",
    "    with io.open(file_path, encoding = 'utf-8') as file:\n",
    "        for line in file:\n",
    "            if re.search('[a-zA-Z]', line):\n",
    "                yield tokenizer(line.lower().replace('\\n', '').strip())\n",
    "                "
   ]
  },
  {
   "cell_type": "code",
   "execution_count": 51,
   "id": "affected-porcelain",
   "metadata": {},
   "outputs": [],
   "source": [
    "textfile = \"data/discourses.mb.txt\"\n",
    "tokenizer = get_tokenizer(\"spacy\")\n",
    "contains_chars = lambda x: re.search('[a-zA-Z]', x)\n",
    "\n",
    "vocab = build_vocab_from_iterator(yield_tokens(textfile, tokenizer), specials=[\"<unk>\"])"
   ]
  },
  {
   "cell_type": "code",
   "execution_count": 56,
   "id": "lesbian-accordance",
   "metadata": {},
   "outputs": [],
   "source": [
    "input_sequences = []\n",
    "\n",
    "with io.open(textfile, encoding = 'utf-8') as file:\n",
    "    for line in file.readlines():\n",
    "        if contains_chars(line):\n",
    "            line = line.lower().replace('\\n', '').strip()\n",
    "            words = tokenizer(line)\n",
    "            tokens = [vocab[word] for word in words]\n",
    "            for i in range(1, len(tokens)): \n",
    "                n_gram_seqs = tokens[:i+1]\n",
    "                input_sequences.append(n_gram_seqs)"
   ]
  },
  {
   "cell_type": "code",
   "execution_count": 58,
   "id": "significant-commodity",
   "metadata": {},
   "outputs": [
    {
     "data": {
      "text/plain": [
       "127187"
      ]
     },
     "execution_count": 58,
     "metadata": {},
     "output_type": "execute_result"
    }
   ],
   "source": [
    "len(input_sequences)"
   ]
  },
  {
   "cell_type": "code",
   "execution_count": null,
   "id": "bigger-lunch",
   "metadata": {},
   "outputs": [],
   "source": []
  }
 ],
 "metadata": {
  "kernelspec": {
   "display_name": "transformer :)",
   "language": "python",
   "name": "transformer"
  },
  "language_info": {
   "codemirror_mode": {
    "name": "ipython",
    "version": 3
   },
   "file_extension": ".py",
   "mimetype": "text/x-python",
   "name": "python",
   "nbconvert_exporter": "python",
   "pygments_lexer": "ipython3",
   "version": "3.9.5"
  }
 },
 "nbformat": 4,
 "nbformat_minor": 5
}
